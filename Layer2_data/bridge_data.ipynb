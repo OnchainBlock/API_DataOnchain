{
 "cells": [
  {
   "cell_type": "code",
   "execution_count": 6,
   "metadata": {},
   "outputs": [
    {
     "data": {
      "text/plain": [
       "True"
      ]
     },
     "execution_count": 6,
     "metadata": {},
     "output_type": "execute_result"
    }
   ],
   "source": [
    "import sys\n",
    "from fastapi import APIRouter\n",
    "from fastapi.openapi.utils import get_openapi\n",
    "from fastapi import FastAPI,Response\n",
    "from fastapi.middleware.cors import CORSMiddleware\n",
    "import uvicorn\n",
    "from dotenv.main import load_dotenv\n",
    "import os\n",
    "import re\n",
    "from typing import List\n",
    "from pathlib import Path\n",
    "import pandas as pd\n",
    "import plotly.express as px\n",
    "import numpy as np\n",
    "from numerize import numerize\n",
    "import datetime\n",
    "import _datetime\n",
    "from sqlalchemy import create_engine\n",
    "import pandas as pd\n",
    "from plotly.subplots import make_subplots\n",
    "import plotly.graph_objects as go\n",
    "pd.options.mode.chained_assignment = None\n",
    "load_dotenv()\n"
   ]
  },
  {
   "cell_type": "code",
   "execution_count": 7,
   "metadata": {},
   "outputs": [],
   "source": [
    "my_server = os.environ['my_server']\n",
    "query_ETH = os.environ['query_ETH_bridge']\n",
    "\n",
    "eth_bridge = pd.read_sql(query_ETH,my_server)\n",
    "\n",
    "# config format time\n",
    "eth_bridge['time'] = eth_bridge['time'].apply(\n",
    "    lambda x: pd.to_datetime(x).floor('T'))"
   ]
  },
  {
   "cell_type": "code",
   "execution_count": 8,
   "metadata": {},
   "outputs": [
    {
     "data": {
      "text/html": [
       "<div>\n",
       "<style scoped>\n",
       "    .dataframe tbody tr th:only-of-type {\n",
       "        vertical-align: middle;\n",
       "    }\n",
       "\n",
       "    .dataframe tbody tr th {\n",
       "        vertical-align: top;\n",
       "    }\n",
       "\n",
       "    .dataframe thead th {\n",
       "        text-align: right;\n",
       "    }\n",
       "</style>\n",
       "<table border=\"1\" class=\"dataframe\">\n",
       "  <thead>\n",
       "    <tr style=\"text-align: right;\">\n",
       "      <th></th>\n",
       "      <th>time</th>\n",
       "      <th>value</th>\n",
       "      <th>bridge</th>\n",
       "      <th>price</th>\n",
       "    </tr>\n",
       "  </thead>\n",
       "  <tbody>\n",
       "    <tr>\n",
       "      <th>2254</th>\n",
       "      <td>2023-09-20 07:01:00</td>\n",
       "      <td>1.198088e+06</td>\n",
       "      <td>Arbitrum</td>\n",
       "      <td>1643.98</td>\n",
       "    </tr>\n",
       "    <tr>\n",
       "      <th>2255</th>\n",
       "      <td>2023-09-20 07:01:00</td>\n",
       "      <td>2.673323e+05</td>\n",
       "      <td>Optimism</td>\n",
       "      <td>1643.98</td>\n",
       "    </tr>\n",
       "    <tr>\n",
       "      <th>2256</th>\n",
       "      <td>2023-09-20 07:01:00</td>\n",
       "      <td>1.861674e+05</td>\n",
       "      <td>zkSync Era</td>\n",
       "      <td>1643.98</td>\n",
       "    </tr>\n",
       "    <tr>\n",
       "      <th>2257</th>\n",
       "      <td>2023-09-20 07:01:00</td>\n",
       "      <td>6.086079e+04</td>\n",
       "      <td>StarkNet</td>\n",
       "      <td>1643.98</td>\n",
       "    </tr>\n",
       "    <tr>\n",
       "      <th>2258</th>\n",
       "      <td>2023-09-20 07:01:00</td>\n",
       "      <td>2.032581e+05</td>\n",
       "      <td>Polygon</td>\n",
       "      <td>1643.98</td>\n",
       "    </tr>\n",
       "    <tr>\n",
       "      <th>2259</th>\n",
       "      <td>2023-09-20 07:01:00</td>\n",
       "      <td>2.410763e+04</td>\n",
       "      <td>Linea</td>\n",
       "      <td>1643.98</td>\n",
       "    </tr>\n",
       "    <tr>\n",
       "      <th>2260</th>\n",
       "      <td>2023-09-20 07:01:00</td>\n",
       "      <td>1.442672e+05</td>\n",
       "      <td>Base</td>\n",
       "      <td>1643.98</td>\n",
       "    </tr>\n",
       "    <tr>\n",
       "      <th>2261</th>\n",
       "      <td>2023-09-20 07:01:00</td>\n",
       "      <td>1.552739e+04</td>\n",
       "      <td>Mantle</td>\n",
       "      <td>1643.98</td>\n",
       "    </tr>\n",
       "  </tbody>\n",
       "</table>\n",
       "</div>"
      ],
      "text/plain": [
       "                    time         value      bridge    price\n",
       "2254 2023-09-20 07:01:00  1.198088e+06    Arbitrum  1643.98\n",
       "2255 2023-09-20 07:01:00  2.673323e+05    Optimism  1643.98\n",
       "2256 2023-09-20 07:01:00  1.861674e+05  zkSync Era  1643.98\n",
       "2257 2023-09-20 07:01:00  6.086079e+04    StarkNet  1643.98\n",
       "2258 2023-09-20 07:01:00  2.032581e+05     Polygon  1643.98\n",
       "2259 2023-09-20 07:01:00  2.410763e+04       Linea  1643.98\n",
       "2260 2023-09-20 07:01:00  1.442672e+05        Base  1643.98\n",
       "2261 2023-09-20 07:01:00  1.552739e+04      Mantle  1643.98"
      ]
     },
     "execution_count": 8,
     "metadata": {},
     "output_type": "execute_result"
    }
   ],
   "source": [
    "eth_bridge[eth_bridge['time']== eth_bridge['time'].max()]"
   ]
  },
  {
   "cell_type": "code",
   "execution_count": 18,
   "metadata": {},
   "outputs": [],
   "source": [
    "def func_layer2(eth_bridge,layer2:str):\n",
    "    data =eth_bridge[eth_bridge['time']== eth_bridge['time'].max()]\n",
    "    data = data[data['bridge']==layer2]\n",
    "    return pd.DataFrame({\n",
    "        'balanceofeth':data['value'],\n",
    "        'usd':data['value']*data['price']\n",
    "    }).to_dict(orient='records')\n",
    "def balanceofLayer2(layer2:str):\n",
    "    choice_condition = ['Arbitrum', 'Optimism', 'zkSync Era', 'StarkNet', 'Polygon','Linea', 'Base','Mantle']\n",
    "    if layer2 not in choice_condition:\n",
    "        return f'balance: {layer2} is not found, plase choice another [\"Arbitrum\", \"Optimism\", \"zkSync Era\", \"StarkNet\", \"Polygon\",\"Linea\", \"Base\",\"Mantle\"]'\n",
    "    elif layer2==\"Arbitrum\":\n",
    "        return func_layer2(eth_bridge,'Arbitrum')\n",
    "    elif layer2==\"Optimism\":\n",
    "        return func_layer2(eth_bridge,'Optimism')\n",
    "    elif layer2==\"zkSync Era\":\n",
    "        return func_layer2(eth_bridge,'zkSync Era')\n",
    "    elif layer2==\"StarkNet\":\n",
    "        return func_layer2(eth_bridge,'StarkNet')\n",
    "    elif layer2==\"Polygon\":\n",
    "        return func_layer2(eth_bridge,'Polygon')\n",
    "    elif layer2==\"Linea\":\n",
    "        return func_layer2(eth_bridge,'Linea')\n",
    "    elif layer2==\"Base\":\n",
    "        return func_layer2(eth_bridge,'Base')\n",
    "    elif layer2==\"Mantle\":\n",
    "        return func_layer2(eth_bridge,'Mantle')\n",
    "    \n",
    "        "
   ]
  },
  {
   "cell_type": "code",
   "execution_count": null,
   "metadata": {},
   "outputs": [],
   "source": []
  }
 ],
 "metadata": {
  "kernelspec": {
   "display_name": "Python 3",
   "language": "python",
   "name": "python3"
  },
  "language_info": {
   "codemirror_mode": {
    "name": "ipython",
    "version": 3
   },
   "file_extension": ".py",
   "mimetype": "text/x-python",
   "name": "python",
   "nbconvert_exporter": "python",
   "pygments_lexer": "ipython3",
   "version": "3.11.2"
  },
  "orig_nbformat": 4
 },
 "nbformat": 4,
 "nbformat_minor": 2
}
